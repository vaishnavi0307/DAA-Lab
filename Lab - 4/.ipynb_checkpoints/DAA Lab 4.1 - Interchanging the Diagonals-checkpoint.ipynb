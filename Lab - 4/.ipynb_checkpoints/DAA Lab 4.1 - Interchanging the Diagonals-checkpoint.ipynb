{
 "cells": [
  {
   "cell_type": "code",
   "execution_count": null,
   "id": "19f4414a",
   "metadata": {},
   "outputs": [],
   "source": [
    "# Interchange the Diagonal\n",
    "\n",
    "#  0 1 2                        2 1 0\n",
    "#  3 4 5    ---------------->   3 4 5\n",
    "#  6 7 8                        8 7 6\n",
    "\n",
    "# Input : [0, 4, 8] is the LEFT diagonal & [2, 4, 6] is the RIGHT diagonal\n",
    "# Output : [0, 4, 8] is the RIGHT diagonal & [2, 4, 6] is the LEFT diagonal\n",
    "\n",
    "# Trick : Swap the corners"
   ]
  },
  {
   "cell_type": "code",
   "execution_count": 11,
   "id": "25153e68",
   "metadata": {},
   "outputs": [
    {
     "name": "stdout",
     "output_type": "stream",
     "text": [
      "[2, 1, 0]\n",
      "[3, 4, 5]\n",
      "[8, 7, 6]\n"
     ]
    }
   ],
   "source": [
    "def interchange_diagonals(matrix):\n",
    "    n = len(matrix)          # len(matrix) gives the number of rows in the matrix i.e., n = 3\n",
    "    for i in range(n):\n",
    "        matrix[i][i], matrix[i][n-i-1] = matrix[i][n-i-1], matrix[i][i]   # Swapping the corners\n",
    "        # since we are representing the no.s & matrix in the form of array, the indexing starts from 0, 1, 2...\n",
    "    return matrix\n",
    "\n",
    "original_matrix = [[0, 1, 2], \n",
    "                   [3, 4, 5], \n",
    "                   [6, 7, 8]]\n",
    "result_matrix = interchange_diagonals(original_matrix)\n",
    "\n",
    "for row in result_matrix:\n",
    "    print(row)\n",
    "    \n",
    "## For i = 0:\n",
    "# matrix[0][0], matrix[0][2] = matrix[0][2], matrix[0][0]\n",
    "# This swaps the elements in the first row: matrix[0][0] = (0) & matrix[0][2] = (2).\n",
    "\n",
    "## For i = 1:\n",
    "# matrix[1][1], matrix[1][1] = matrix[1][1], matrix[1][1]\n",
    "# This is effectively a no-op. It doesn't change the matrix.\n",
    "\n",
    "##For i = 2:\n",
    "# matrix[2][2], matrix[2][0] = matrix[2][0], matrix[2][2]\n",
    "# This swaps the elements in the third row: matrix[2][2] (8) and matrix[2][0] (6)."
   ]
  },
  {
   "cell_type": "code",
   "execution_count": null,
   "id": "0bb65dbd",
   "metadata": {},
   "outputs": [],
   "source": []
  }
 ],
 "metadata": {
  "kernelspec": {
   "display_name": "Python 3 (ipykernel)",
   "language": "python",
   "name": "python3"
  },
  "language_info": {
   "codemirror_mode": {
    "name": "ipython",
    "version": 3
   },
   "file_extension": ".py",
   "mimetype": "text/x-python",
   "name": "python",
   "nbconvert_exporter": "python",
   "pygments_lexer": "ipython3",
   "version": "3.9.13"
  }
 },
 "nbformat": 4,
 "nbformat_minor": 5
}
