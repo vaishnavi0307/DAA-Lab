{
 "cells": [
  {
   "cell_type": "code",
   "execution_count": null,
   "id": "2f9e348b",
   "metadata": {},
   "outputs": [],
   "source": [
    "# Add all the leaf nodes"
   ]
  },
  {
   "cell_type": "code",
   "execution_count": 10,
   "id": "1ced7c77",
   "metadata": {},
   "outputs": [
    {
     "name": "stdout",
     "output_type": "stream",
     "text": [
      "Enter the node to be searched: 8\n",
      "8 found\n"
     ]
    }
   ],
   "source": [
    "class Node:\n",
    "\n",
    "    def __init__(self, key):\n",
    "        self.key = key\n",
    "        self.left = None\n",
    "        self.right = None\n",
    "\n",
    "def insert(node, key):\n",
    "    if node is None:\n",
    "        return Node(key)\n",
    "\n",
    "    if key < node.key:\n",
    "        node.left = insert(node.left, key)\n",
    "    elif key > node.key:\n",
    "        node.right = insert(node.right, key)\n",
    "\n",
    "    return node\n",
    "\n",
    "def search(root, key):\n",
    "    if root is None or root.key == key:\n",
    "        return root\n",
    "\n",
    "    if root.key < key:\n",
    "        return search(root.right, key)\n",
    "\n",
    "    return search(root.left, key)\n",
    "\n",
    "if __name__ == '__main__':\n",
    "    root = None\n",
    "    root = insert(root, 50)\n",
    "    insert(root, 10)\n",
    "    insert(root, 8)\n",
    "    insert(root, 7)  # Adding leaf node 7\n",
    "    insert(root, 9)  # Adding leaf node 9\n",
    "    insert(root, 20)\n",
    "    insert(root, 15)  # Adding leaf node 15\n",
    "    insert(root, 21)  # Adding leaf node 21\n",
    "    \n",
    "    key = int(input(\"Enter the node to be searched: \"))\n",
    "\n",
    "    if search(root, key) is None:\n",
    "        print(key, \"not found\")\n",
    "    else:\n",
    "        print(key, \"found\")"
   ]
  },
  {
   "cell_type": "code",
   "execution_count": 11,
   "id": "e11fe545",
   "metadata": {},
   "outputs": [
    {
     "name": "stdout",
     "output_type": "stream",
     "text": [
      "enter the node to be searched8\n",
      "8 found\n",
      "Sum of leaf nodes: 52\n"
     ]
    }
   ],
   "source": [
    "class Node:\n",
    "\n",
    "    def __init__(self, key):\n",
    "        self.key = key\n",
    "        self.left = None\n",
    "        self.right = None\n",
    "\n",
    "def insert(node, key):\n",
    "    if node is None:\n",
    "        return Node(key)\n",
    "\n",
    "    if key < node.key:\n",
    "        node.left = insert(node.left, key)\n",
    "    elif key > node.key:\n",
    "        node.right = insert(node.right, key)\n",
    "\n",
    "    return node\n",
    "\n",
    "def search(root, key):\n",
    "    if root is None or root.key == key:\n",
    "        return root\n",
    "\n",
    "    if root.key < key:\n",
    "        return search(root.right, key)\n",
    "\n",
    "    return search(root.left, key)\n",
    "\n",
    "def sum_leaf_nodes(node):\n",
    "    if node is None:\n",
    "        return 0\n",
    "\n",
    "    if node.left is None and node.right is None:\n",
    "        return node.key\n",
    "\n",
    "    return sum_leaf_nodes(node.left) + sum_leaf_nodes(node.right)\n",
    "\n",
    "if __name__ == '__main__':\n",
    "    root = None\n",
    "    root = insert(root, 50)\n",
    "    insert(root, 10)\n",
    "    insert(root, 8)\n",
    "    insert(root, 7)         # Leaf Node\n",
    "    insert(root, 9)         # Leaf Node\n",
    "    insert(root, 20)\n",
    "    insert(root, 15)        # Leaf Node\n",
    "    insert(root, 21)        # Leaf Node\n",
    "\n",
    "    key = int(input(\"enter the node to be searched\"))\n",
    "\n",
    "    if search(root, key) is None:\n",
    "        print(key, \"not found\")\n",
    "    else:\n",
    "        print(key, \"found\")\n",
    "\n",
    "    sum_leaf = sum_leaf_nodes(root)\n",
    "    print(\"Sum of leaf nodes:\", sum_leaf)"
   ]
  },
  {
   "cell_type": "code",
   "execution_count": null,
   "id": "d6a34791",
   "metadata": {},
   "outputs": [],
   "source": []
  }
 ],
 "metadata": {
  "kernelspec": {
   "display_name": "Python 3 (ipykernel)",
   "language": "python",
   "name": "python3"
  },
  "language_info": {
   "codemirror_mode": {
    "name": "ipython",
    "version": 3
   },
   "file_extension": ".py",
   "mimetype": "text/x-python",
   "name": "python",
   "nbconvert_exporter": "python",
   "pygments_lexer": "ipython3",
   "version": "3.9.13"
  }
 },
 "nbformat": 4,
 "nbformat_minor": 5
}
