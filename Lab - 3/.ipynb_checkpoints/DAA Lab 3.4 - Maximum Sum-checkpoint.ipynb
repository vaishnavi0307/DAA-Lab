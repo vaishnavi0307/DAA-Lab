{
 "cells": [
  {
   "cell_type": "code",
   "execution_count": 1,
   "id": "de96add1",
   "metadata": {},
   "outputs": [
    {
     "name": "stdout",
     "output_type": "stream",
     "text": [
      "Enter the array elements separated by spaces: 1 2 3 4 5\n",
      "Maximum Sum: 15\n",
      "Different Possible Element Sets:\n",
      "[1, 2, 3, 4, 5]\n"
     ]
    }
   ],
   "source": [
    "def find_max_sum_subsets(arr):\n",
    "    n = len(arr)\n",
    "    max_sum = float(\"-inf\")\n",
    "    max_subsets = []\n",
    "\n",
    "    # Generate all possible subsets of the array\n",
    "    for i in range(1 << n):\n",
    "        subset = [arr[j] for j in range(n) if (i & (1 << j)) > 0]\n",
    "\n",
    "        # Calculate the sum of the current subset\n",
    "        current_sum = sum(subset)\n",
    "\n",
    "        # Check if the current sum is greater than the maximum sum\n",
    "        if current_sum > max_sum:\n",
    "            max_sum = current_sum\n",
    "            max_subsets = [subset]\n",
    "        elif current_sum == max_sum:\n",
    "            max_subsets.append(subset)\n",
    "\n",
    "    return max_sum, max_subsets\n",
    "\n",
    "# Example usage\n",
    "user_input = input(\"Enter the array elements separated by spaces: \")\n",
    "arr = list(map(int, user_input.split()))\n",
    "max_sum, max_subsets = find_max_sum_subsets(arr)\n",
    "\n",
    "print(\"Maximum Sum:\", max_sum)\n",
    "print(\"Different Possible Element Sets:\")\n",
    "for subset in max_subsets:\n",
    "    print(subset)"
   ]
  },
  {
   "cell_type": "code",
   "execution_count": null,
   "id": "6e1e9ebc",
   "metadata": {},
   "outputs": [],
   "source": []
  }
 ],
 "metadata": {
  "kernelspec": {
   "display_name": "Python 3 (ipykernel)",
   "language": "python",
   "name": "python3"
  },
  "language_info": {
   "codemirror_mode": {
    "name": "ipython",
    "version": 3
   },
   "file_extension": ".py",
   "mimetype": "text/x-python",
   "name": "python",
   "nbconvert_exporter": "python",
   "pygments_lexer": "ipython3",
   "version": "3.9.13"
  }
 },
 "nbformat": 4,
 "nbformat_minor": 5
}
