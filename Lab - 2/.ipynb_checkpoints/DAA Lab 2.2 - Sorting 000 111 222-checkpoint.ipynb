{
 "cells": [
  {
   "cell_type": "code",
   "execution_count": 1,
   "id": "a62de9ea",
   "metadata": {},
   "outputs": [],
   "source": [
    "# Given array : [0, 0, 1, 2, 0, 1, 2, 2, 1]\n",
    "\n",
    "# Output : [0, 0, 0, 1, 1, 1, 2, 2, 2]"
   ]
  },
  {
   "cell_type": "code",
   "execution_count": 2,
   "id": "a1bcf978",
   "metadata": {},
   "outputs": [
    {
     "name": "stdout",
     "output_type": "stream",
     "text": [
      "[0, 0, 0, 1, 1, 1, 2, 2, 2]\n"
     ]
    }
   ],
   "source": [
    "# Sorting using in-built function\n",
    "\n",
    "a = [0, 0, 0, 1, 1, 1, 2, 2, 2]\n",
    "\n",
    "a.sort()\n",
    "\n",
    "print(a)"
   ]
  },
  {
   "cell_type": "code",
   "execution_count": 3,
   "id": "43ba9438",
   "metadata": {},
   "outputs": [
    {
     "name": "stdout",
     "output_type": "stream",
     "text": [
      "Sorted Array :  [0, 0, 0, 1, 1, 1, 2, 2, 2]\n"
     ]
    }
   ],
   "source": [
    "# Sorting using \n",
    "\n",
    "def default_sort(a):\n",
    "    n = len(a)       # Length of the Array\n",
    "\n",
    "    # Traverse through all array elements\n",
    "    for i in range(n):\n",
    "        # Last i elements are already in place, so we don't need to check them again\n",
    "        for j in range(0, n-i-1):\n",
    "            # Swap if the element found is greater than the next element\n",
    "            if a[j] > a[j+1]:\n",
    "                a[j], a[j+1] = a[j+1], a[j]      # Here no.s are swapped\n",
    "\n",
    "# Input array\n",
    "a = [0, 0, 1, 2, 0, 1, 2, 2, 1]\n",
    "\n",
    "# Call the custom_sort function to sort the array\n",
    "default_sort(a)\n",
    "\n",
    "# Display the sorted array\n",
    "print(\"Sorted Array : \", a)\n",
    "\n",
    "# Time Complexity : n^2"
   ]
  },
  {
   "cell_type": "code",
   "execution_count": null,
   "id": "e2ea2971",
   "metadata": {},
   "outputs": [],
   "source": [
    "# Sorting using a Sorting algorithm - Insertion Sort \n",
    "\n",
    "def insertion_sort(arr):\n",
    "    for i in range(1, len(arr)):\n",
    "        key = arr[i]\n",
    "        j = i - 1\n",
    "        while j >= 0 and key < arr[j]:\n",
    "            arr[j + 1] = arr[j]\n",
    "            j -= 1\n",
    "        arr[j + 1] = key\n",
    "\n",
    "# Input array\n",
    "arr = [0, 0, 1, 2, 0, 1, 2, 2, 1]\n",
    "\n",
    "# Call the insertion_sort function\n",
    "insertion_sort(arr)\n",
    "\n",
    "# Display the sorted array\n",
    "print(\"Sorted Array:\", arr)"
   ]
  }
 ],
 "metadata": {
  "kernelspec": {
   "display_name": "Python 3 (ipykernel)",
   "language": "python",
   "name": "python3"
  },
  "language_info": {
   "codemirror_mode": {
    "name": "ipython",
    "version": 3
   },
   "file_extension": ".py",
   "mimetype": "text/x-python",
   "name": "python",
   "nbconvert_exporter": "python",
   "pygments_lexer": "ipython3",
   "version": "3.9.13"
  }
 },
 "nbformat": 4,
 "nbformat_minor": 5
}
