{
 "cells": [
  {
   "cell_type": "code",
   "execution_count": null,
   "id": "8c64a194",
   "metadata": {},
   "outputs": [],
   "source": [
    "# Multiply 2 integers\n",
    "\n",
    "# DO NOT USE multiplication, division, for loops, bitwise operators\n",
    "\n",
    "# Can be done using Recursion"
   ]
  },
  {
   "cell_type": "code",
   "execution_count": 9,
   "id": "cd7d69eb",
   "metadata": {},
   "outputs": [
    {
     "name": "stdout",
     "output_type": "stream",
     "text": [
      "Enter 1st Integer : 2\n",
      "Enter 2nd Integer : 3\n",
      "Product:  6\n"
     ]
    }
   ],
   "source": [
    "def multiplication(a, b):\n",
    "    if b == 0:\n",
    "        return 0\n",
    "    return a + multiplication(a, b - 1)   # Recursion - funtion calling itself until the values are decremented to 0 \n",
    "# Recursion is happening in the above line & 'multiplication(a, b-1)' causes recursion and until b = 0, recursion happens.\n",
    "# This is resultion in 'repeated addition' which is the same as 'multiplication'\n",
    "\n",
    "a = int(input(\"Enter 1st Integer : \"))\n",
    "b = int(input(\"Enter 2nd Integer : \"))\n",
    "\n",
    "result = multiplication(a,b)\n",
    "print(\"Product: \", result)"
   ]
  },
  {
   "cell_type": "code",
   "execution_count": null,
   "id": "61ad82e4",
   "metadata": {},
   "outputs": [],
   "source": [
    "# Repeated Addition \n",
    "\n",
    "# a + multiplication(a, b - 1)\n",
    "\n",
    "# Now from the above inputs, a = 2, b = 3\n",
    "\n",
    "## 2 + multiplication(2, 3 - 1)\n",
    "# 2 + {2 + multiplication(2, 2)} [3 - 1 = 2]\n",
    "# 2 + 2 + {2 + multiplication(2, 1)} [2 - 1 = 1]\n",
    "# 2 + 2 + 2 + {2 + multiplication(2, 0)} [1 - 1 = 0]\n",
    "# 2 + 2 + 2 + 2 + 0 = 6\n",
    "# (since, anything multiplied with 0 is 0 which is defined in the first 2 lines after the function is defined)"
   ]
  }
 ],
 "metadata": {
  "kernelspec": {
   "display_name": "Python 3 (ipykernel)",
   "language": "python",
   "name": "python3"
  },
  "language_info": {
   "codemirror_mode": {
    "name": "ipython",
    "version": 3
   },
   "file_extension": ".py",
   "mimetype": "text/x-python",
   "name": "python",
   "nbconvert_exporter": "python",
   "pygments_lexer": "ipython3",
   "version": "3.9.13"
  }
 },
 "nbformat": 4,
 "nbformat_minor": 5
}
