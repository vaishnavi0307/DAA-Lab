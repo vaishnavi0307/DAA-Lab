{
 "cells": [
  {
   "cell_type": "code",
   "execution_count": null,
   "id": "67641d69",
   "metadata": {},
   "outputs": [],
   "source": [
    "NAME          : Satya Vaishnavi Gumpally\n",
    "STUDENT ID    : 22WU0106017\n",
    "CLASS/SECTION : B.Tech CSE BIC-A "
   ]
  },
  {
   "cell_type": "code",
   "execution_count": null,
   "id": "24fcd0fd",
   "metadata": {},
   "outputs": [],
   "source": [
    "## LAB - 1 ##"
   ]
  },
  {
   "cell_type": "code",
   "execution_count": 1,
   "id": "603f4496",
   "metadata": {},
   "outputs": [
    {
     "name": "stdout",
     "output_type": "stream",
     "text": [
      "Leader Numbers :  [17, 5, 2]\n"
     ]
    }
   ],
   "source": [
    "## Q1 - LEADER NUMBERS\n",
    "\n",
    "## Leader Numbers : In the array, considering the right numbers, we need to check if left number is \n",
    "# biggest than the right side numbers\n",
    "\n",
    "## In a given array, we need to extract the greatest elements if the numbers after them are smaller than that number\n",
    "\n",
    "def leader_numbers(arr):\n",
    "    n = len(arr)                     # len(arr) givens the no. of elements of the array\n",
    "    leaders = [ ]\n",
    "    max_right = arr[n - 1]           # Displays (n-1)th index of the array since index starts from 0 to n\n",
    "    \n",
    "    leaders.append(max_right)        # Rightmost or last element of the array is the leader number always \n",
    "                                     # because there are no numbers after it to compare\n",
    "    for i in range(n - 2, -1, -1) :\n",
    "        if arr[i] > max_right: \n",
    "            max_right = arr[i]\n",
    "            leaders.append(max_right)\n",
    "        \n",
    "    return leaders[::-1]\n",
    "    \n",
    "sample = [16, 17, 4, 3, 5, 2]\n",
    "result = leader_numbers(sample)\n",
    "print(\"Leader Numbers : \", result)      "
   ]
  },
  {
   "cell_type": "code",
   "execution_count": 2,
   "id": "277ba9b4",
   "metadata": {},
   "outputs": [
    {
     "name": "stdout",
     "output_type": "stream",
     "text": [
      "[1, 3, 2, 6, 4, 8, 7]\n"
     ]
    }
   ],
   "source": [
    "## Q2 - SORTING IN SMALL NUMBER & BIG NUMBER MANNER\n",
    "\n",
    "## Sorting in Small Number & Big Number Manner\n",
    "\n",
    "# Input - Array\n",
    "# Output - Small No. , Big No. , .....\n",
    "\n",
    "def SmallNoBigNo(arr, n):                                 # Zig Zag Numbers\n",
    "    arr.sort()                                            # using sort function to sort the array\n",
    "    for i in range(1, n-1, 2):                            # traverse the array from 1 to n-1\n",
    "        arr[i], arr[i+1] = arr[i+1], arr[i]               # swap value of current element with next element\n",
    "    print(arr)\n",
    "\n",
    "\n",
    "if __name__ == \"__main__\":\n",
    "    arr = [4, 3, 7, 8, 6, 2, 1]\n",
    "    n = len(arr)\n",
    "    SmallNoBigNo(arr, n)"
   ]
  },
  {
   "cell_type": "code",
   "execution_count": null,
   "id": "7f06c2fd",
   "metadata": {},
   "outputs": [],
   "source": [
    "__________________________________________________________________________________________________________________________"
   ]
  },
  {
   "cell_type": "code",
   "execution_count": null,
   "id": "7a252c07",
   "metadata": {},
   "outputs": [],
   "source": [
    "## LAB - 2 ##"
   ]
  },
  {
   "cell_type": "code",
   "execution_count": 3,
   "id": "b6294a17",
   "metadata": {},
   "outputs": [
    {
     "name": "stdout",
     "output_type": "stream",
     "text": [
      "Enter the target sum: 10\n",
      "Enter space-separated numbers in the array: 1 2 3 4 5\n",
      "Triplets with the sum 10 are:\n",
      "(1, 4, 5)\n",
      "(2, 3, 5)\n"
     ]
    }
   ],
   "source": [
    "## Q1 - SUM & THEIR SET OF TRIPLET NUMBERS\n",
    "\n",
    "# Triplet Numbers and their Sum\n",
    "\n",
    "# Ex : \n",
    "\n",
    "## A = [1, 2, 3, 4, 5]\n",
    "\n",
    "# Sum needs to be 9 ; add any three no.s from the above array, their sum needs to 9\n",
    "\n",
    "# 2 + 3 + 5 = 9\n",
    "# 1 + 3 + 5 = 9 \n",
    "\n",
    "# 1 Loop\n",
    "\n",
    "# Time Complexity = n (since only 1 loop)\n",
    "\n",
    "def find_triplets_with_sum(arr, target_sum):\n",
    "    n = len(arr)\n",
    "    found_triplets = []\n",
    "\n",
    "    # Sort the array for better efficiency\n",
    "    arr.sort()\n",
    "\n",
    "    for i in range(n - 2):\n",
    "        left = i + 1\n",
    "        right = n - 1\n",
    "\n",
    "        while left < right:                                       \n",
    "            # whule loop is only for condition checking.... it doesnt stay till the end\n",
    "            current_sum = arr[i] + arr[left] + arr[right]\n",
    "\n",
    "            if current_sum == target_sum:\n",
    "                found_triplets.append((arr[i], arr[left], arr[right]))\n",
    "                left += 1\n",
    "                right -= 1\n",
    "            elif current_sum < target_sum:\n",
    "                left += 1\n",
    "            else:\n",
    "                right -= 1\n",
    "\n",
    "    return found_triplets\n",
    "\n",
    "# Example usage:\n",
    "user_sum = int(input(\"Enter the target sum: \"))\n",
    "user_array = list(map(int, input(\"Enter space-separated numbers in the array: \").split()))\n",
    "\n",
    "triplets = find_triplets_with_sum(user_array, user_sum)\n",
    "\n",
    "if triplets:\n",
    "    print(\"Triplets with the sum\", user_sum, \"are:\")\n",
    "    for triplet in triplets:\n",
    "        print(triplet)\n",
    "else:\n",
    "    print(\"No triplets found with the given sum.\")"
   ]
  },
  {
   "cell_type": "code",
   "execution_count": 4,
   "id": "1e39404a",
   "metadata": {},
   "outputs": [
    {
     "name": "stdout",
     "output_type": "stream",
     "text": [
      "Sorted Array :  [0, 0, 0, 1, 1, 1, 2, 2, 2]\n"
     ]
    }
   ],
   "source": [
    "## Q2 - DEFAULT SORT WITHOUT ANY SORTING ALGORITHM\n",
    "\n",
    "# Given array : [0, 0, 1, 2, 0, 1, 2, 2, 1]\n",
    "# Output : [0, 0, 0, 1, 1, 1, 2, 2, 2]\n",
    "\n",
    "# Sorting using  \n",
    "\n",
    "def default_sort(a):\n",
    "    n = len(a)       # Length of the Array\n",
    "\n",
    "    # Traverse through all array elements\n",
    "    for i in range(n):\n",
    "        # Last i elements are already in place, so we don't need to check them again\n",
    "        for j in range(0, n-i-1):\n",
    "            # Swap if the element found is greater than the next element\n",
    "            if a[j] > a[j+1]:\n",
    "                a[j], a[j+1] = a[j+1], a[j]      # Here no.s are swapped\n",
    "\n",
    "# Input array\n",
    "a = [0, 0, 1, 2, 0, 1, 2, 2, 1]\n",
    "\n",
    "# Call the custom_sort function to sort the array\n",
    "default_sort(a)\n",
    "\n",
    "# Display the sorted array\n",
    "print(\"Sorted Array : \", a)\n",
    "\n",
    "# Time Complexity : n^2"
   ]
  },
  {
   "cell_type": "code",
   "execution_count": null,
   "id": "d6b83191",
   "metadata": {},
   "outputs": [],
   "source": [
    "__________________________________________________________________________________________________________________________"
   ]
  },
  {
   "cell_type": "code",
   "execution_count": null,
   "id": "1bdee2fc",
   "metadata": {},
   "outputs": [],
   "source": [
    "## LAB - 3 ##"
   ]
  },
  {
   "cell_type": "code",
   "execution_count": 5,
   "id": "7d2ea7bc",
   "metadata": {},
   "outputs": [
    {
     "name": "stdout",
     "output_type": "stream",
     "text": [
      "Enter a list of numbers separated by commas: 1,10,11,12,11,1\n",
      "Original List: [1, 10, 11, 12, 11, 1]\n",
      "List with Duplicates Removed: [1, 10, 11, 12]\n"
     ]
    }
   ],
   "source": [
    "## Q1 - REMOVING DUPLICATE VALUES\n",
    "\n",
    "def remove_dup_values(input_list):\n",
    "    output_list = []\n",
    "    for item in input_list:\n",
    "        if item not in output_list:\n",
    "            output_list.append(item)\n",
    "    return output_list\n",
    "\n",
    "user_input = input(\"Enter a list of numbers separated by commas: \")\n",
    "user_list = [int(x) for x in user_input.split(',')]\n",
    "\n",
    "result_list = remove_dup_values(user_list)\n",
    "\n",
    "print(\"Original List:\", user_list)\n",
    "print(\"List with Duplicates Removed:\", result_list)"
   ]
  },
  {
   "cell_type": "code",
   "execution_count": 6,
   "id": "aa9cd0a3",
   "metadata": {},
   "outputs": [
    {
     "name": "stdout",
     "output_type": "stream",
     "text": [
      "The linked list has a loop.\n"
     ]
    }
   ],
   "source": [
    "## Q2 - GIVEN LINKED LIST HAS A LOOP OR NOT\n",
    "\n",
    "class ListNode:\n",
    "    def __init__(self, value):\n",
    "        self.value = value\n",
    "        self.next = None\n",
    "\n",
    "def has_loop(head):\n",
    "    if not head or not head.next:\n",
    "        return False\n",
    "\n",
    "    slow_ptr = head\n",
    "    fast_ptr = head\n",
    "\n",
    "    while fast_ptr and fast_ptr.next:\n",
    "        slow_ptr = slow_ptr.next\n",
    "        fast_ptr = fast_ptr.next.next\n",
    "\n",
    "        if slow_ptr == fast_ptr:\n",
    "            return True\n",
    "\n",
    "    return False\n",
    "\n",
    "# Helper function to create a linked list with a loop\n",
    "def create_linked_list_with_loop(values, loop_index):\n",
    "    if not values:\n",
    "        return None\n",
    "\n",
    "    head = ListNode(values[0])\n",
    "    current = head\n",
    "    loop_node = None\n",
    "\n",
    "    for i in range(1, len(values)):\n",
    "        current.next = ListNode(values[i])\n",
    "        current = current.next\n",
    "\n",
    "        if i == loop_index:\n",
    "            loop_node = current\n",
    "\n",
    "    if loop_node:\n",
    "        current.next = loop_node\n",
    "\n",
    "    return head\n",
    "\n",
    "# Example usage:\n",
    "values = [1, 2, 3, 4, 5, 6]\n",
    "loop_index = 2  # Change this value to create a loop at a different index\n",
    "head = create_linked_list_with_loop(values, loop_index)\n",
    "\n",
    "if has_loop(head):\n",
    "    print(\"The linked list has a loop.\")\n",
    "else:\n",
    "    print(\"The linked list does not have a loop.\")"
   ]
  },
  {
   "cell_type": "code",
   "execution_count": 7,
   "id": "b07fd912",
   "metadata": {},
   "outputs": [
    {
     "name": "stdout",
     "output_type": "stream",
     "text": [
      "Enter space-separated numbers in the array: 1 10 4 7 8\n",
      "[1, 4, 7, 8, 10]\n"
     ]
    }
   ],
   "source": [
    "## Q3 - MERGE SORT\n",
    "\n",
    "# Merge Sort\n",
    "\n",
    "# Time Complexity : N log N\n",
    "\n",
    "# Normal while loop where i, i, i = N\n",
    "# if there is patterns like i/2 = log N\n",
    "# if there is a loop i and then another loop in it i.e., iteration or is there is while loop = N log N\n",
    "\n",
    "def merge_sort(arr, start, end):\n",
    "    \n",
    "    if start < end:                \n",
    "# start < end, thsi is due to if there is a single element in the array, \n",
    "# starting index = ending index and then if there is a single element, there is nothing to sort in the array.\n",
    "# So, to avoid that condition we make sure starting index is less than ending index\n",
    "        mid = (start + end) // 2\n",
    "\n",
    "        # Sort the first/left half\n",
    "        merge_sort(arr, start, mid)\n",
    "\n",
    "        # Sort the second half\n",
    "        merge_sort(arr, mid + 1, end)\n",
    "\n",
    "        # Merge the two sorted halves\n",
    "        merge(arr, start, mid, end)\n",
    "\n",
    "def merge(arr, start, mid, end):\n",
    "    left_half = arr[start:mid + 1]\n",
    "    right_half = arr[mid + 1:end + 1]\n",
    "\n",
    "    i = j = 0\n",
    "    k = start\n",
    "\n",
    "    while i < len(left_half) and j < len(right_half):\n",
    "        if left_half[i] <= right_half[j]:\n",
    "            arr[k] = left_half[i]\n",
    "            i += 1\n",
    "        else:\n",
    "            arr[k] = right_half[j]\n",
    "            j += 1\n",
    "        k += 1\n",
    "\n",
    "    while i < len(left_half):\n",
    "        arr[k] = left_half[i]\n",
    "        i += 1\n",
    "        k += 1\n",
    "\n",
    "    while j < len(right_half):\n",
    "        arr[k] = right_half[j]\n",
    "        j += 1\n",
    "        k += 1\n",
    "\n",
    "# Example Usage\n",
    "arr = list(map(int, input(\"Enter space-separated numbers in the array: \").split()))\n",
    "merge_sort(arr, 0, len(arr) - 1)\n",
    "print(arr)"
   ]
  },
  {
   "cell_type": "code",
   "execution_count": 8,
   "id": "1630f746",
   "metadata": {},
   "outputs": [
    {
     "name": "stdout",
     "output_type": "stream",
     "text": [
      "Enter the array elements separated by spaces: 1 2 3 4 5\n",
      "Maximum Sum: 15\n",
      "Different Possible Element Sets:\n",
      "[1, 2, 3, 4, 5]\n"
     ]
    }
   ],
   "source": [
    "## Q4 - MAXIMUM SUM & THEIR SUBSETS\n",
    "\n",
    "def find_max_sum_subsets(arr):\n",
    "    n = len(arr)\n",
    "    max_sum = float(\"-inf\")\n",
    "    max_subsets = []\n",
    "\n",
    "    # Generate all possible subsets of the array\n",
    "    for i in range(1 << n):\n",
    "        subset = [arr[j] for j in range(n) if (i & (1 << j)) > 0]\n",
    "\n",
    "        # Calculate the sum of the current subset\n",
    "        current_sum = sum(subset)\n",
    "\n",
    "        # Check if the current sum is greater than the maximum sum\n",
    "        if current_sum > max_sum:\n",
    "            max_sum = current_sum\n",
    "            max_subsets = [subset]\n",
    "        elif current_sum == max_sum:\n",
    "            max_subsets.append(subset)\n",
    "\n",
    "    return max_sum, max_subsets\n",
    "\n",
    "# Example usage\n",
    "user_input = input(\"Enter the array elements separated by spaces: \")\n",
    "arr = list(map(int, user_input.split()))\n",
    "max_sum, max_subsets = find_max_sum_subsets(arr)\n",
    "\n",
    "print(\"Maximum Sum:\", max_sum)\n",
    "print(\"Different Possible Element Sets:\")\n",
    "for subset in max_subsets:\n",
    "    print(subset)"
   ]
  },
  {
   "cell_type": "code",
   "execution_count": null,
   "id": "2db8f893",
   "metadata": {},
   "outputs": [],
   "source": [
    "__________________________________________________________________________________________________________________________"
   ]
  },
  {
   "cell_type": "code",
   "execution_count": null,
   "id": "5cb6e34b",
   "metadata": {},
   "outputs": [],
   "source": [
    "## LAB - 4 ##"
   ]
  },
  {
   "cell_type": "code",
   "execution_count": 3,
   "id": "111b66d5",
   "metadata": {},
   "outputs": [
    {
     "name": "stdout",
     "output_type": "stream",
     "text": [
      "[2, 1, 0]\n",
      "[3, 4, 5]\n",
      "[8, 7, 6]\n"
     ]
    }
   ],
   "source": [
    "## Q1 - INTERCHANGING DIAGONALS\n",
    "\n",
    "# Interchange the Diagonal\n",
    "\n",
    "#  0 1 2                        2 1 0\n",
    "#  3 4 5    ---------------->   3 4 5\n",
    "#  6 7 8                        8 7 6\n",
    "\n",
    "# Input : [0, 4, 8] is the LEFT diagonal & [2, 4, 6] is the RIGHT diagonal\n",
    "# Output : [0, 4, 8] is the RIGHT diagonal & [2, 4, 6] is the LEFT diagonal\n",
    "\n",
    "# Trick : Swap the corners\n",
    "\n",
    "def interchange_diagonals(matrix):\n",
    "    n = len(matrix)          # len(matrix) gives the number of rows in the matrix i.e., n = 3\n",
    "    for i in range(n):\n",
    "        matrix[i][i], matrix[i][n-i-1] = matrix[i][n-i-1], matrix[i][i]   # Swapping the corners\n",
    "        # since we are representing the no.s & matrix in the form of array, the indexing starts from 0, 1, 2...\n",
    "    return matrix\n",
    "\n",
    "original_matrix = [[0, 1, 2], \n",
    "                   [3, 4, 5], \n",
    "                   [6, 7, 8]]\n",
    "result_matrix = interchange_diagonals(original_matrix)\n",
    "\n",
    "for row in result_matrix:\n",
    "    print(row)"
   ]
  },
  {
   "cell_type": "code",
   "execution_count": 2,
   "id": "c785b008",
   "metadata": {},
   "outputs": [
    {
     "name": "stdout",
     "output_type": "stream",
     "text": [
      "[0, 1, 2, 3, 4, 5, 6, 7, 8, 9]\n"
     ]
    }
   ],
   "source": [
    "## Q2 - INDEX ARRAY\n",
    "\n",
    "# Display the index no. in the array by finding that number in the array\n",
    "\n",
    "# A[i] = i\n",
    "\n",
    "def index_array(A):\n",
    "    n = len(A)\n",
    "    \n",
    "    for i in range(n): \n",
    "        while A[i] != i:               # != - not equal to\n",
    "            temp = A[i]\n",
    "            A[i], A[temp] = A[temp], A[i]\n",
    "    return A\n",
    "\n",
    "A = [2, 3, 1, 0, 4, 5, 7, 6, 9, 8]\n",
    "result = index_array(A)\n",
    "print(result)"
   ]
  },
  {
   "cell_type": "code",
   "execution_count": null,
   "id": "e69f22ef",
   "metadata": {},
   "outputs": [],
   "source": [
    "__________________________________________________________________________________________________________________________"
   ]
  },
  {
   "cell_type": "code",
   "execution_count": null,
   "id": "e6209147",
   "metadata": {},
   "outputs": [],
   "source": [
    "## LAB - 5 ##"
   ]
  },
  {
   "cell_type": "code",
   "execution_count": 4,
   "id": "6326b133",
   "metadata": {},
   "outputs": [
    {
     "name": "stdout",
     "output_type": "stream",
     "text": [
      "Please enter a 4x4 matrix with only 1s and 0s (with spaces between each no.s):\n",
      "1 1 1 1\n",
      "2 2 1 1\n",
      "4 1 3 2\n",
      "0 0 0 9\n",
      "The row with the highest number of 1s is Row = 1\n",
      "Number of 1s: 4\n"
     ]
    }
   ],
   "source": [
    "## Q1 - ROWS WITH MOST NO. OF 1'S\n",
    "\n",
    "def count_ones(row):\n",
    "    return row.count(1)\n",
    "\n",
    "def find_max_ones(matrix):\n",
    "    max_ones = 0\n",
    "    max_row = -1\n",
    "\n",
    "    for i, row in enumerate(matrix):\n",
    "        ones_count = count_ones(row)\n",
    "        if ones_count > max_ones:\n",
    "            max_ones = ones_count\n",
    "            max_row = i\n",
    "\n",
    "    return max_row\n",
    "\n",
    "matrix = []\n",
    "print(\"Please enter a 4x4 matrix with only 1s and 0s (with spaces between each no.s):\")\n",
    "for _ in range(4):\n",
    "    row = list(map(int, input().split()))\n",
    "    matrix.append(row)\n",
    "\n",
    "max_row = find_max_ones(matrix)\n",
    "\n",
    "if max_row != -1:\n",
    "    print(f\"The row with the highest number of 1s is Row = {max_row+1}\")\n",
    "    print(f\"Number of 1s: {matrix[max_row].count(1)}\")\n",
    "else:\n",
    "    print(\"No row contains any 1s.\")"
   ]
  },
  {
   "cell_type": "code",
   "execution_count": 5,
   "id": "b2db519f",
   "metadata": {},
   "outputs": [
    {
     "name": "stdout",
     "output_type": "stream",
     "text": [
      "Sum of middle row and middle column values (excluding middle value): 56\n"
     ]
    }
   ],
   "source": [
    "## Q2 - SUM OF MIDDLE ROW & MIDDLE COLUMN\n",
    "\n",
    "def sum_middle_row_and_column(matrix):\n",
    "    rows = len(matrix)\n",
    "    cols = len(matrix[0])\n",
    "\n",
    "    middle_row = rows // 2\n",
    "    middle_col = cols // 2\n",
    "\n",
    "    middle_value = matrix[middle_row][middle_col]\n",
    "\n",
    "    row_sum = sum(matrix[middle_row])\n",
    "    col_sum = sum(row[middle_col] for row in matrix)\n",
    "    total_sum = row_sum + col_sum - middle_value\n",
    "    return total_sum\n",
    "\n",
    "matrix = [\n",
    "    [1, 2, 3, 4, 5],\n",
    "    [6, 7, 8, 9, 10],\n",
    "    [11, 12, 13, 14, 15]\n",
    "]\n",
    "\n",
    "result = sum_middle_row_and_column(matrix)\n",
    "print(\"Sum of middle row and middle column values (excluding middle value):\", result)"
   ]
  },
  {
   "cell_type": "code",
   "execution_count": null,
   "id": "f7220c13",
   "metadata": {},
   "outputs": [],
   "source": [
    "__________________________________________________________________________________________________________________________"
   ]
  },
  {
   "cell_type": "code",
   "execution_count": null,
   "id": "74d745f3",
   "metadata": {},
   "outputs": [],
   "source": [
    "## LAB - 6 ##"
   ]
  },
  {
   "cell_type": "code",
   "execution_count": 6,
   "id": "977022f5",
   "metadata": {},
   "outputs": [
    {
     "name": "stdout",
     "output_type": "stream",
     "text": [
      "Enter the number of rows: 3\n",
      "Enter the number of columns: 3\n",
      "Enter element at position (1, 1): 7\n",
      "Enter element at position (1, 2): 6\n",
      "Enter element at position (1, 3): 5\n",
      "Enter element at position (2, 1): 1\n",
      "Enter element at position (2, 2): 2\n",
      "Enter element at position (2, 3): 3\n",
      "Enter element at position (3, 1): 8\n",
      "Enter element at position (3, 2): 4\n",
      "Enter element at position (3, 3): 9\n",
      "Sorted Matrix:\n",
      "1 2 3\n",
      "4 5 6\n",
      "7 8 9\n",
      "\n",
      "Matrix with Diagonals Replaced:\n",
      "0 2 0\n",
      "4 0 6\n",
      "0 8 0\n"
     ]
    }
   ],
   "source": [
    "## Q1 - SORTING A MATRIX & REPLACING THE DIAGONALS WITH 0'S\n",
    "\n",
    "# Sort the matrix without any inbuilt libraries of python\n",
    "# After that, replace the left and right diagonals with 0's\n",
    "\n",
    "def get_matrix_from_user():\n",
    "    rows = int(input(\"Enter the number of rows: \"))\n",
    "    cols = int(input(\"Enter the number of columns: \"))\n",
    "\n",
    "    matrix = []\n",
    "    for i in range(rows):\n",
    "        row = []\n",
    "        for j in range(cols):\n",
    "            element = int(input(f\"Enter element at position ({i+1}, {j+1}): \"))\n",
    "            row.append(element)\n",
    "        matrix.append(row)\n",
    "\n",
    "    return matrix\n",
    "\n",
    "def print_matrix(matrix):\n",
    "    for row in matrix:\n",
    "        print(' '.join(map(str, row)))\n",
    "\n",
    "def sort_matrix(matrix):\n",
    "    flattened_matrix = [item for sublist in matrix for item in sublist]\n",
    "    flattened_matrix.sort()\n",
    "    sorted_matrix = [flattened_matrix[i:i+len(matrix[0])] for i in range(0, len(flattened_matrix), len(matrix[0]))]\n",
    "\n",
    "    return sorted_matrix\n",
    "\n",
    "def replace_diagonals(matrix):\n",
    "    size = len(matrix)\n",
    "    for i in range(size):\n",
    "        matrix[i][i] = 0\n",
    "        matrix[i][size - i - 1] = 0\n",
    "\n",
    "    return matrix\n",
    "\n",
    "# Get the matrix from the user\n",
    "matrix = get_matrix_from_user()\n",
    "\n",
    "# Sort the matrix\n",
    "sorted_matrix = sort_matrix(matrix)\n",
    "\n",
    "# Print the sorted matrix\n",
    "print(\"Sorted Matrix:\")\n",
    "print_matrix(sorted_matrix)\n",
    "\n",
    "# Replace diagonals with 0's\n",
    "modified_matrix = replace_diagonals(sorted_matrix)\n",
    "\n",
    "# Print the modified matrix\n",
    "print(\"\\nMatrix with Diagonals Replaced:\")\n",
    "print_matrix(modified_matrix)"
   ]
  },
  {
   "cell_type": "code",
   "execution_count": 7,
   "id": "733f045d",
   "metadata": {},
   "outputs": [
    {
     "name": "stdout",
     "output_type": "stream",
     "text": [
      "Enter 1st Integer : 2\n",
      "Enter 2nd Integer : 3\n",
      "Product:  6\n"
     ]
    }
   ],
   "source": [
    "## Q2 - MULTIPLICATION OF NUMBERS WITHOUT IN-BUILT FUNCTIONS\n",
    "\n",
    "# Multiply 2 integers\n",
    "# DO NOT USE multiplication, division, for loops, bitwise operators\n",
    "# Can be done using Recursion\n",
    "\n",
    "def multiplication(a, b):\n",
    "    if b == 0:\n",
    "        return 0\n",
    "    return a + multiplication(a, b - 1)   # Recursion \n",
    "\n",
    "a = int(input(\"Enter 1st Integer : \"))\n",
    "b = int(input(\"Enter 2nd Integer : \"))\n",
    "\n",
    "result = multiplication(a,b)\n",
    "print(\"Product: \", result)"
   ]
  },
  {
   "cell_type": "code",
   "execution_count": null,
   "id": "2fe21595",
   "metadata": {},
   "outputs": [],
   "source": [
    "__________________________________________________________________________________________________________________________"
   ]
  },
  {
   "cell_type": "code",
   "execution_count": null,
   "id": "10602d54",
   "metadata": {},
   "outputs": [],
   "source": [
    "## LAB - 7 ##"
   ]
  },
  {
   "cell_type": "code",
   "execution_count": 1,
   "id": "3e89aebd",
   "metadata": {},
   "outputs": [
    {
     "name": "stdout",
     "output_type": "stream",
     "text": [
      "Enter the value to search: 8\n",
      "True\n"
     ]
    }
   ],
   "source": [
    "## Q1 - SEARCH THE NODE IN BST\n",
    "\n",
    "# Search the User Input Node from the Binary Search Tree\n",
    "# If the node is present, return True\n",
    "# If not there, return False\n",
    "\n",
    "class Node:\n",
    "    def __init__(self, value):\n",
    "        self.value = value\n",
    "        self.left = None\n",
    "        self.right = None\n",
    "\n",
    "def insert_node(root, value):\n",
    "    if root is None:\n",
    "        return Node(value)\n",
    "    else:\n",
    "        if root.value < value:\n",
    "            root.right = insert_node(root.right, value)\n",
    "        else:\n",
    "            root.left = insert_node(root.left, value)\n",
    "    return root\n",
    "\n",
    "def search_node(root, value):\n",
    "    if root is None or root.value == value:\n",
    "        return root is not None\n",
    "\n",
    "    if root.value < value:\n",
    "        return search_node(root.right, value)\n",
    "\n",
    "    return search_node(root.left, value)\n",
    "\n",
    "# Creating the BST with the provided nodes: 10, 8, 20, 9, 7, 21, 15\n",
    "root = None\n",
    "nodes = [10, 8, 20, 9, 7, 21, 15]\n",
    "for node in nodes:\n",
    "    root = insert_node(root, node)\n",
    "\n",
    "# Taking user input for the node to search\n",
    "user_input = int(input(\"Enter the value to search: \"))\n",
    "\n",
    "# Searching for the user input node\n",
    "result = search_node(root, user_input)\n",
    "\n",
    "# Printing the result\n",
    "print(result)"
   ]
  },
  {
   "cell_type": "code",
   "execution_count": 5,
   "id": "5aa9af15",
   "metadata": {},
   "outputs": [
    {
     "name": "stdout",
     "output_type": "stream",
     "text": [
      "Enter The Node to be Searched : 8\n",
      "8 FOUND\n",
      "Sum of Leaf Nodes : 52\n"
     ]
    }
   ],
   "source": [
    "## Q2 - ADD ALL THE LEAF NODES OF THE BST\n",
    "\n",
    "class Node:\n",
    "\n",
    "    def __init__(self, key):\n",
    "        self.key = key\n",
    "        self.left = None\n",
    "        self.right = None\n",
    "\n",
    "def insert(node, key):\n",
    "    if node is None:\n",
    "        return Node(key)\n",
    "\n",
    "    if key < node.key:\n",
    "        node.left = insert(node.left, key)\n",
    "    elif key > node.key:\n",
    "        node.right = insert(node.right, key)\n",
    "\n",
    "    return node\n",
    "\n",
    "def search(root, key):\n",
    "    if root is None or root.key == key:\n",
    "        return root\n",
    "\n",
    "    if root.key < key:\n",
    "        return search(root.right, key)\n",
    "\n",
    "    return search(root.left, key)\n",
    "\n",
    "def sum_leaf_nodes(node):\n",
    "    if node is None:\n",
    "        return 0\n",
    "\n",
    "    if node.left is None and node.right is None:\n",
    "        return node.key\n",
    "\n",
    "    return sum_leaf_nodes(node.left) + sum_leaf_nodes(node.right)\n",
    "\n",
    "if __name__ == '__main__':\n",
    "    root = None\n",
    "    root = insert(root, 50)\n",
    "    insert(root, 10)\n",
    "    insert(root, 8)\n",
    "    insert(root, 7)         # Leaf Node\n",
    "    insert(root, 9)         # Leaf Node\n",
    "    insert(root, 20)\n",
    "    insert(root, 15)        # Leaf Node\n",
    "    insert(root, 21)        # Leaf Node\n",
    "\n",
    "    key = int(input(\"Enter The Node to be Searched : \"))\n",
    "\n",
    "    if search(root, key) is None:\n",
    "        print(key, \"NOT FOUND\")\n",
    "    else:\n",
    "        print(key, \"FOUND\")\n",
    "\n",
    "    sum_leaf = sum_leaf_nodes(root)\n",
    "    print(\"Sum of Leaf Nodes :\", sum_leaf)"
   ]
  },
  {
   "cell_type": "code",
   "execution_count": 10,
   "id": "fbed1af2",
   "metadata": {},
   "outputs": [
    {
     "name": "stdout",
     "output_type": "stream",
     "text": [
      "[1, 3, 2, 4, 5, 6, 7, 15, 14, 13, 12, 11, 10, 9, 8]\n"
     ]
    }
   ],
   "source": [
    "## Q3 - PRINTING THE BINARY TREE NODES IN A SPIRAL MANNER\n",
    "\n",
    "class TreeNode:\n",
    "    def __init__(self, val):\n",
    "        self.val = val\n",
    "        self.left = None\n",
    "        self.right = None\n",
    "\n",
    "def build_tree(nums):\n",
    "    if not nums:\n",
    "        return None\n",
    "    \n",
    "    root = TreeNode(nums.pop(0))\n",
    "    queue = [root]\n",
    "    \n",
    "    while queue and nums:\n",
    "        node = queue.pop(0)\n",
    "        \n",
    "        left_val = nums.pop(0)\n",
    "        if left_val is not None:\n",
    "            node.left = TreeNode(left_val)\n",
    "            queue.append(node.left)\n",
    "        \n",
    "        if nums:\n",
    "            right_val = nums.pop(0)\n",
    "            if right_val is not None:\n",
    "                node.right = TreeNode(right_val)\n",
    "                queue.append(node.right)\n",
    "    \n",
    "    return root\n",
    "\n",
    "def spiral_traversal(root):\n",
    "    if not root:\n",
    "        return []\n",
    "    \n",
    "    result = []\n",
    "    level = 1\n",
    "    queue = [root]\n",
    "    \n",
    "    while queue:\n",
    "        level_size = len(queue)\n",
    "        level_nodes = []\n",
    "        \n",
    "        for _ in range(level_size):\n",
    "            node = queue.pop(0)\n",
    "            \n",
    "            if level % 2 == 1:\n",
    "                level_nodes.append(node.val)\n",
    "            else:\n",
    "                level_nodes.insert(0, node.val)\n",
    "            \n",
    "            if node.left:\n",
    "                queue.append(node.left)\n",
    "            if node.right:\n",
    "                queue.append(node.right)\n",
    "        \n",
    "        result.extend(level_nodes)\n",
    "        level += 1\n",
    "    \n",
    "    return result\n",
    "\n",
    "# Input list\n",
    "input_list = [1, 2, 3, 4, 5, 6, 7, 8, 9, 10, 11, 12, 13, 14, 15]\n",
    "\n",
    "# Build the binary tree\n",
    "root = build_tree(input_list)\n",
    "\n",
    "# Perform spiral traversal\n",
    "output = spiral_traversal(root)\n",
    "\n",
    "# Print the result\n",
    "print(output)"
   ]
  },
  {
   "cell_type": "code",
   "execution_count": null,
   "id": "05b9a81d",
   "metadata": {},
   "outputs": [],
   "source": [
    "__________________________________________________________________________________________________________________________"
   ]
  }
 ],
 "metadata": {
  "kernelspec": {
   "display_name": "Python 3 (ipykernel)",
   "language": "python",
   "name": "python3"
  },
  "language_info": {
   "codemirror_mode": {
    "name": "ipython",
    "version": 3
   },
   "file_extension": ".py",
   "mimetype": "text/x-python",
   "name": "python",
   "nbconvert_exporter": "python",
   "pygments_lexer": "ipython3",
   "version": "3.9.13"
  }
 },
 "nbformat": 4,
 "nbformat_minor": 5
}
