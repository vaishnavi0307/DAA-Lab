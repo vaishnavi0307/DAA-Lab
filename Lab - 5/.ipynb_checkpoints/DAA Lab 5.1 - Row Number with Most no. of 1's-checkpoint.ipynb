{
 "cells": [
  {
   "cell_type": "code",
   "execution_count": 2,
   "id": "90c27c2c",
   "metadata": {},
   "outputs": [
    {
     "name": "stdout",
     "output_type": "stream",
     "text": [
      "Please enter a 4x4 matrix with only 1s and 0s (with spaces between each no.s):\n",
      "1 1 1 1\n",
      "2 2 1 1\n",
      "4 1 3 2\n",
      "0 0 0 9\n",
      "The row with the highest number of 1s is Row = 1\n",
      "Number of 1s: 4\n"
     ]
    }
   ],
   "source": [
    "def count_ones(row):\n",
    "    return row.count(1)\n",
    "\n",
    "def find_max_ones(matrix):\n",
    "    max_ones = 0\n",
    "    max_row = -1\n",
    "\n",
    "    for i, row in enumerate(matrix):\n",
    "        ones_count = count_ones(row)\n",
    "        if ones_count > max_ones:\n",
    "            max_ones = ones_count\n",
    "            max_row = i\n",
    "\n",
    "    return max_row\n",
    "\n",
    "matrix = []\n",
    "print(\"Please enter a 4x4 matrix with only 1s and 0s (with spaces between each no.s):\")\n",
    "for _ in range(4):\n",
    "    row = list(map(int, input().split()))\n",
    "    matrix.append(row)\n",
    "\n",
    "max_row = find_max_ones(matrix)\n",
    "\n",
    "if max_row != -1:\n",
    "    print(f\"The row with the highest number of 1s is Row = {max_row+1}\")\n",
    "    print(f\"Number of 1s: {matrix[max_row].count(1)}\")\n",
    "else:\n",
    "    print(\"No row contains any 1s.\")"
   ]
  },
  {
   "cell_type": "code",
   "execution_count": null,
   "id": "ffe87295",
   "metadata": {},
   "outputs": [],
   "source": []
  }
 ],
 "metadata": {
  "kernelspec": {
   "display_name": "Python 3 (ipykernel)",
   "language": "python",
   "name": "python3"
  },
  "language_info": {
   "codemirror_mode": {
    "name": "ipython",
    "version": 3
   },
   "file_extension": ".py",
   "mimetype": "text/x-python",
   "name": "python",
   "nbconvert_exporter": "python",
   "pygments_lexer": "ipython3",
   "version": "3.9.13"
  }
 },
 "nbformat": 4,
 "nbformat_minor": 5
}
