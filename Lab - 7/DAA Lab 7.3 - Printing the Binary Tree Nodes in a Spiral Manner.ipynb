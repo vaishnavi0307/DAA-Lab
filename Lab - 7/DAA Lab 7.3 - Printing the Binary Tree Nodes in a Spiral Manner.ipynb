{
 "cells": [
  {
   "cell_type": "code",
   "execution_count": null,
   "id": "9c924300",
   "metadata": {},
   "outputs": [],
   "source": [
    "# For the Binary Tree [1, 2, 3, 4, 5, 6, 7, 8, 9, 10, 11, 12, 13, 14, 15]\n",
    "\n",
    "# Print the Numbers in a spiral manner starting from right side\n",
    "\n",
    "# Output : [1, 3, 2, 4, 5, 6, 7, 15, 14, 13, 12, 11, 10, 9, 8]\n",
    "\n",
    "# This is called Spiral Traversal"
   ]
  },
  {
   "cell_type": "code",
   "execution_count": 1,
   "id": "42902f91",
   "metadata": {},
   "outputs": [
    {
     "name": "stdout",
     "output_type": "stream",
     "text": [
      "[1, 3, 2, 4, 5, 6, 7, 15, 14, 13, 12, 11, 10, 9, 8]\n"
     ]
    }
   ],
   "source": [
    "class TreeNode:\n",
    "    def __init__(self, val):\n",
    "        self.val = val\n",
    "        self.left = None\n",
    "        self.right = None\n",
    "\n",
    "def build_tree(nums):\n",
    "    if not nums:\n",
    "        return None\n",
    "    \n",
    "    root = TreeNode(nums.pop(0))\n",
    "    queue = [root]\n",
    "    \n",
    "    while queue and nums:\n",
    "        node = queue.pop(0)\n",
    "        \n",
    "        left_val = nums.pop(0)\n",
    "        if left_val is not None:\n",
    "            node.left = TreeNode(left_val)\n",
    "            queue.append(node.left)\n",
    "        \n",
    "        if nums:\n",
    "            right_val = nums.pop(0)\n",
    "            if right_val is not None:\n",
    "                node.right = TreeNode(right_val)\n",
    "                queue.append(node.right)\n",
    "    \n",
    "    return root\n",
    "\n",
    "def spiral_traversal(root):\n",
    "    if not root:\n",
    "        return []\n",
    "    \n",
    "    result = []\n",
    "    level = 1\n",
    "    queue = [root]\n",
    "    \n",
    "    while queue:\n",
    "        level_size = len(queue)\n",
    "        level_nodes = []\n",
    "        \n",
    "        for _ in range(level_size):\n",
    "            node = queue.pop(0)\n",
    "            \n",
    "            if level % 2 == 1:\n",
    "                level_nodes.append(node.val)\n",
    "            else:\n",
    "                level_nodes.insert(0, node.val)\n",
    "            \n",
    "            if node.left:\n",
    "                queue.append(node.left)\n",
    "            if node.right:\n",
    "                queue.append(node.right)\n",
    "        \n",
    "        result.extend(level_nodes)\n",
    "        level += 1\n",
    "    \n",
    "    return result\n",
    "\n",
    "# Input list\n",
    "input_list = [1, 2, 3, 4, 5, 6, 7, 8, 9, 10, 11, 12, 13, 14, 15]\n",
    "\n",
    "# Build the binary tree\n",
    "root = build_tree(input_list)\n",
    "\n",
    "# Perform spiral traversal\n",
    "output = spiral_traversal(root)\n",
    "\n",
    "# Print the result\n",
    "print(output)"
   ]
  },
  {
   "cell_type": "code",
   "execution_count": null,
   "id": "f5c8a514",
   "metadata": {},
   "outputs": [],
   "source": []
  }
 ],
 "metadata": {
  "kernelspec": {
   "display_name": "Python 3 (ipykernel)",
   "language": "python",
   "name": "python3"
  },
  "language_info": {
   "codemirror_mode": {
    "name": "ipython",
    "version": 3
   },
   "file_extension": ".py",
   "mimetype": "text/x-python",
   "name": "python",
   "nbconvert_exporter": "python",
   "pygments_lexer": "ipython3",
   "version": "3.9.13"
  }
 },
 "nbformat": 4,
 "nbformat_minor": 5
}
