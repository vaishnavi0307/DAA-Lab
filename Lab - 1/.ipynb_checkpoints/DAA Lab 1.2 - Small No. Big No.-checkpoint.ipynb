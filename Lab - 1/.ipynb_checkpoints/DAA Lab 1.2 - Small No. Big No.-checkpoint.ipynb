{
 "cells": [
  {
   "cell_type": "code",
   "execution_count": null,
   "id": "bb371ed1",
   "metadata": {},
   "outputs": [],
   "source": [
    "# Input - Array\n",
    "# Output - Small No. , Big No. , ....."
   ]
  },
  {
   "cell_type": "code",
   "execution_count": 4,
   "id": "adf46394",
   "metadata": {},
   "outputs": [
    {
     "name": "stdout",
     "output_type": "stream",
     "text": [
      "[1, 3, 2, 6, 4, 8, 7]\n"
     ]
    }
   ],
   "source": [
    "def SmallNoBigNo(arr, n):                                 # Zig Zag Numbers\n",
    "    arr.sort()                                            # using sort function to sort the array\n",
    "    for i in range(1, n-1, 2):                            # traverse the array from 1 to n-1\n",
    "        arr[i], arr[i+1] = arr[i+1], arr[i]               # swap value of current element with next element\n",
    "    print(arr)\n",
    "\n",
    "\n",
    "if __name__ == \"__main__\":\n",
    "    arr = [4, 3, 7, 8, 6, 2, 1]\n",
    "    n = len(arr)\n",
    "    SmallNoBigNo(arr, n)"
   ]
  },
  {
   "cell_type": "code",
   "execution_count": null,
   "id": "ef2de613",
   "metadata": {},
   "outputs": [],
   "source": []
  }
 ],
 "metadata": {
  "kernelspec": {
   "display_name": "Python 3 (ipykernel)",
   "language": "python",
   "name": "python3"
  },
  "language_info": {
   "codemirror_mode": {
    "name": "ipython",
    "version": 3
   },
   "file_extension": ".py",
   "mimetype": "text/x-python",
   "name": "python",
   "nbconvert_exporter": "python",
   "pygments_lexer": "ipython3",
   "version": "3.9.13"
  }
 },
 "nbformat": 4,
 "nbformat_minor": 5
}
