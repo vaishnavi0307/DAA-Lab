{
 "cells": [
  {
   "cell_type": "code",
   "execution_count": 1,
   "id": "c8e0507d",
   "metadata": {},
   "outputs": [
    {
     "name": "stdout",
     "output_type": "stream",
     "text": [
      "Sum of middle row and middle column values (excluding middle value): 56\n"
     ]
    }
   ],
   "source": [
    "def sum_middle_row_and_column(matrix):\n",
    "    rows = len(matrix)\n",
    "    cols = len(matrix[0])\n",
    "\n",
    "    middle_row = rows // 2\n",
    "    middle_col = cols // 2\n",
    "\n",
    "    middle_value = matrix[middle_row][middle_col]\n",
    "\n",
    "    row_sum = sum(matrix[middle_row])\n",
    "    col_sum = sum(row[middle_col] for row in matrix)\n",
    "    total_sum = row_sum + col_sum - middle_value\n",
    "    return total_sum\n",
    "\n",
    "matrix = [\n",
    "    [1, 2, 3, 4, 5],\n",
    "    [6, 7, 8, 9, 10],\n",
    "    [11, 12, 13, 14, 15]\n",
    "]\n",
    "\n",
    "result = sum_middle_row_and_column(matrix)\n",
    "print(\"Sum of middle row and middle column values (excluding middle value):\", result)"
   ]
  },
  {
   "cell_type": "code",
   "execution_count": null,
   "id": "80f0ff50",
   "metadata": {},
   "outputs": [],
   "source": []
  }
 ],
 "metadata": {
  "kernelspec": {
   "display_name": "Python 3 (ipykernel)",
   "language": "python",
   "name": "python3"
  },
  "language_info": {
   "codemirror_mode": {
    "name": "ipython",
    "version": 3
   },
   "file_extension": ".py",
   "mimetype": "text/x-python",
   "name": "python",
   "nbconvert_exporter": "python",
   "pygments_lexer": "ipython3",
   "version": "3.9.13"
  }
 },
 "nbformat": 4,
 "nbformat_minor": 5
}
