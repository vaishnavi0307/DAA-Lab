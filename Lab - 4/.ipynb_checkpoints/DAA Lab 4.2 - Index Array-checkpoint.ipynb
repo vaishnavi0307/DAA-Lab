{
 "cells": [
  {
   "cell_type": "code",
   "execution_count": null,
   "id": "f823dc21",
   "metadata": {},
   "outputs": [],
   "source": [
    "# Display the index no. in the array by finding that number in the array\n",
    "\n",
    "# A[i] = i"
   ]
  },
  {
   "cell_type": "code",
   "execution_count": 6,
   "id": "0572d1cc",
   "metadata": {},
   "outputs": [
    {
     "name": "stdout",
     "output_type": "stream",
     "text": [
      "[0, 1, 2, 3, 4, 5, 6, 7, 8, 9]\n"
     ]
    }
   ],
   "source": [
    "def index_array(A):\n",
    "    n = len(A)\n",
    "    \n",
    "    for i in range(n): \n",
    "        while A[i] != i:               # != - not equal to\n",
    "            temp = A[i]\n",
    "            A[i], A[temp] = A[temp], A[i]\n",
    "    return A\n",
    "\n",
    "A = [2, 3, 1, 0, 4, 5, 7, 6, 9, 8]\n",
    "result = index_array(A)\n",
    "print(result)"
   ]
  },
  {
   "cell_type": "code",
   "execution_count": 7,
   "id": "5d1fe716",
   "metadata": {},
   "outputs": [
    {
     "name": "stdout",
     "output_type": "stream",
     "text": [
      "[0, 1, 2, 3, 4, 5, 6, 7, 8, 9]\n"
     ]
    }
   ],
   "source": [
    "def index_array(A):\n",
    "    n = len(A)\n",
    "    \n",
    "    for i in range(n): \n",
    "# This line starts a loop that iterates over the indices from 0 to n-1. \n",
    "# In each iteration, i will take on one of these values.\n",
    "        while A[i] != i:               # != - not equal to\n",
    "# This line starts a while loop. It continues as long as the element at index i in the list A is not equal to i. \n",
    "# This condition checks if the element at index i is in its correct position.\n",
    "            temp = A[i]\n",
    "# Inside the while loop, this line assigns the value of A[i] to the variable temp. \n",
    "# This temporarily stores the value of the element at index i.\n",
    "            A[i], A[temp] = A[temp], A[i]\n",
    "# This line swaps the values at indices i and temp in the list A. \n",
    "# This effectively moves the element to its correct position.\n",
    "    return A\n",
    "\n",
    "A = [2, 3, 1, 0, 4, 5, 7, 6, 9, 8]\n",
    "result = index_array(A)\n",
    "print(result)\n",
    "\n",
    "# In summary, this code takes a list as input, and for each element in the list, \n",
    "# it swaps the element with the element at its correct index until all elements are in their correct positions. \n",
    "# The modified list is then returned and printed."
   ]
  },
  {
   "cell_type": "code",
   "execution_count": null,
   "id": "b221a16e",
   "metadata": {},
   "outputs": [],
   "source": []
  }
 ],
 "metadata": {
  "kernelspec": {
   "display_name": "Python 3 (ipykernel)",
   "language": "python",
   "name": "python3"
  },
  "language_info": {
   "codemirror_mode": {
    "name": "ipython",
    "version": 3
   },
   "file_extension": ".py",
   "mimetype": "text/x-python",
   "name": "python",
   "nbconvert_exporter": "python",
   "pygments_lexer": "ipython3",
   "version": "3.9.13"
  }
 },
 "nbformat": 4,
 "nbformat_minor": 5
}
