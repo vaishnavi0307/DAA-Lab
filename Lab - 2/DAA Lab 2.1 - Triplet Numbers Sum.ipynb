{
 "cells": [
  {
   "cell_type": "code",
   "execution_count": null,
   "id": "ae0ccc42",
   "metadata": {},
   "outputs": [],
   "source": [
    "# Triplet Numbers and their Sum\n",
    "\n",
    "# Ex : \n",
    "\n",
    "## A = [1, 2, 3, 4, 5]\n",
    "\n",
    "# Sum needs to be 9 ; add any three no.s from the above array, their sum needs to 9\n",
    "\n",
    "# 2 + 3 + 5 = 9\n",
    "# 1 + 3 + 5 = 9 "
   ]
  },
  {
   "cell_type": "code",
   "execution_count": null,
   "id": "1d6d4064",
   "metadata": {},
   "outputs": [],
   "source": [
    "# 1 Loop\n",
    "\n",
    "# Time Complexity = n (since only 1 loop)"
   ]
  },
  {
   "cell_type": "code",
   "execution_count": 1,
   "id": "c4c9c231",
   "metadata": {},
   "outputs": [
    {
     "name": "stdout",
     "output_type": "stream",
     "text": [
      "Enter the target sum: 10\n",
      "Enter space-separated numbers in the array: 1 2 3 4 5 \n",
      "Triplets with the sum 10 are:\n",
      "(1, 4, 5)\n",
      "(2, 3, 5)\n"
     ]
    }
   ],
   "source": [
    "def find_triplets_with_sum(arr, target_sum):\n",
    "    n = len(arr)\n",
    "    found_triplets = []\n",
    "\n",
    "    # Sort the array for better efficiency\n",
    "    arr.sort()\n",
    "\n",
    "    for i in range(n - 2):\n",
    "        left = i + 1\n",
    "        right = n - 1\n",
    "\n",
    "        while left < right:                                       \n",
    "            # whule loop is only for condition checking.... it doesnt stay till the end\n",
    "            current_sum = arr[i] + arr[left] + arr[right]\n",
    "\n",
    "            if current_sum == target_sum:\n",
    "                found_triplets.append((arr[i], arr[left], arr[right]))\n",
    "                left += 1\n",
    "                right -= 1\n",
    "            elif current_sum < target_sum:\n",
    "                left += 1\n",
    "            else:\n",
    "                right -= 1\n",
    "\n",
    "    return found_triplets\n",
    "\n",
    "# Example usage:\n",
    "user_sum = int(input(\"Enter the target sum: \"))\n",
    "user_array = list(map(int, input(\"Enter space-separated numbers in the array: \").split()))\n",
    "\n",
    "triplets = find_triplets_with_sum(user_array, user_sum)\n",
    "\n",
    "if triplets:\n",
    "    print(\"Triplets with the sum\", user_sum, \"are:\")\n",
    "    for triplet in triplets:\n",
    "        print(triplet)\n",
    "else:\n",
    "    print(\"No triplets found with the given sum.\")"
   ]
  },
  {
   "cell_type": "code",
   "execution_count": null,
   "id": "e5c22d2e",
   "metadata": {},
   "outputs": [],
   "source": [
    "# 3 Loops\n",
    "\n",
    "# Time Complexity = n^3 (since there are 3 loops)"
   ]
  },
  {
   "cell_type": "code",
   "execution_count": 3,
   "id": "9688ddac",
   "metadata": {},
   "outputs": [
    {
     "name": "stdout",
     "output_type": "stream",
     "text": [
      "Enter the target sum: 10\n",
      "Enter space-separated numbers in the array: 1 2 3 4 5 \n",
      "Triplets with the sum 10 are:\n",
      "(1, 4, 5)\n",
      "(2, 3, 5)\n"
     ]
    }
   ],
   "source": [
    "def find_triplets_with_sum(arr, target_sum):\n",
    "    n = len(arr)\n",
    "    triplets = []\n",
    "\n",
    "    for i in range(n - 2):\n",
    "        for j in range(i + 1, n - 1):\n",
    "            for k in range(j + 1, n):\n",
    "                if arr[i] + arr[j] + arr[k] == target_sum:\n",
    "                    triplets.append((arr[i], arr[j], arr[k]))\n",
    "\n",
    "    return triplets\n",
    "\n",
    "# Example usage:\n",
    "user_input = int(input(\"Enter the target sum: \"))\n",
    "array = list(map(int, input(\"Enter space-separated numbers in the array: \").split()))\n",
    "result = find_triplets_with_sum(array, user_input)\n",
    "\n",
    "if result:\n",
    "    print(\"Triplets with the sum\", user_input, \"are:\")\n",
    "    for triplet in result:\n",
    "        print(triplet)\n",
    "else:\n",
    "    print(\"No triplets found with the sum\", user_input)"
   ]
  },
  {
   "cell_type": "code",
   "execution_count": null,
   "id": "3dc12e75",
   "metadata": {},
   "outputs": [],
   "source": []
  }
 ],
 "metadata": {
  "kernelspec": {
   "display_name": "Python 3 (ipykernel)",
   "language": "python",
   "name": "python3"
  },
  "language_info": {
   "codemirror_mode": {
    "name": "ipython",
    "version": 3
   },
   "file_extension": ".py",
   "mimetype": "text/x-python",
   "name": "python",
   "nbconvert_exporter": "python",
   "pygments_lexer": "ipython3",
   "version": "3.9.13"
  }
 },
 "nbformat": 4,
 "nbformat_minor": 5
}
