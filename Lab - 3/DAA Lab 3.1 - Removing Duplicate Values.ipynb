{
 "cells": [
  {
   "cell_type": "code",
   "execution_count": null,
   "id": "bff71e56",
   "metadata": {},
   "outputs": [],
   "source": [
    "# Removing Duplicate Values"
   ]
  },
  {
   "cell_type": "code",
   "execution_count": 5,
   "id": "6d9db198",
   "metadata": {},
   "outputs": [
    {
     "name": "stdout",
     "output_type": "stream",
     "text": [
      "Enter a list of numbers separated by commas: 1,10,11,12,11,1\n",
      "Original List: [1, 10, 11, 12, 11, 1]\n",
      "List with Duplicates Removed: [1, 10, 11, 12]\n"
     ]
    }
   ],
   "source": [
    "def remove_dup_values(input_list):\n",
    "    output_list = []\n",
    "    for item in input_list:\n",
    "        if item not in output_list:\n",
    "            output_list.append(item)\n",
    "    return output_list\n",
    "\n",
    "user_input = input(\"Enter a list of numbers separated by commas: \")\n",
    "user_list = [int(x) for x in user_input.split(',')]\n",
    "\n",
    "result_list = remove_dup_values(user_list)\n",
    "\n",
    "print(\"Original List:\", user_list)\n",
    "print(\"List with Duplicates Removed:\", result_list)"
   ]
  },
  {
   "cell_type": "code",
   "execution_count": 6,
   "id": "5627102a",
   "metadata": {},
   "outputs": [
    {
     "name": "stdout",
     "output_type": "stream",
     "text": [
      "[1, 10, 11, 12]\n"
     ]
    }
   ],
   "source": [
    "input_array = [1, 10, 11, 12, 11, 1]\n",
    "unique_array = list(set(input_array))\n",
    "\n",
    "print(unique_array)\n",
    "\n",
    "# Set removes the Duplicate Values"
   ]
  }
 ],
 "metadata": {
  "kernelspec": {
   "display_name": "Python 3 (ipykernel)",
   "language": "python",
   "name": "python3"
  },
  "language_info": {
   "codemirror_mode": {
    "name": "ipython",
    "version": 3
   },
   "file_extension": ".py",
   "mimetype": "text/x-python",
   "name": "python",
   "nbconvert_exporter": "python",
   "pygments_lexer": "ipython3",
   "version": "3.9.13"
  }
 },
 "nbformat": 4,
 "nbformat_minor": 5
}
