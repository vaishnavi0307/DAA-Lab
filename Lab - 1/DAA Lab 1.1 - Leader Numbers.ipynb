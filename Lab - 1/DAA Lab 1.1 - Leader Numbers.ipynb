{
 "cells": [
  {
   "cell_type": "code",
   "execution_count": null,
   "id": "88b67677",
   "metadata": {},
   "outputs": [],
   "source": [
    "## Q1\n",
    "\n",
    "## Leader Numbers : In the array, considering the right numbers, we need to check if left number is \n",
    "# biggest than the right side numbers\n",
    "\n",
    "## In a given array, we need to extract the greatest elements if the niumbers after them are smaller thamn that number"
   ]
  },
  {
   "cell_type": "code",
   "execution_count": 8,
   "id": "16267caf",
   "metadata": {},
   "outputs": [
    {
     "name": "stdout",
     "output_type": "stream",
     "text": [
      "Leader Numbers :  [17, 5, 2]\n"
     ]
    }
   ],
   "source": [
    "def leader_numbers(arr):\n",
    "    n = len(arr)                     # len(arr) givens the no. of elements of the array\n",
    "    leaders = [ ]\n",
    "    max_right = arr[n - 1]           # Displays (n-1)th index of the array since index starts from 0 to n\n",
    "    \n",
    "    leaders.append(max_right)        # Rightmost or last element of the array is the leader number always \n",
    "                                     # because there are no numbers after it to compare\n",
    "    for i in range(n - 2, -1, -1) :\n",
    "        if arr[i] > max_right: \n",
    "            max_right = arr[i]\n",
    "            leaders.append(max_right)\n",
    "        \n",
    "    return leaders[::-1]\n",
    "    \n",
    "sample = [16, 17, 4, 3, 5, 2]\n",
    "result = leader_numbers(sample)\n",
    "print(\"Leader Numbers : \", result)        "
   ]
  },
  {
   "cell_type": "code",
   "execution_count": 31,
   "id": "5b9b82ae",
   "metadata": {},
   "outputs": [
    {
     "name": "stdout",
     "output_type": "stream",
     "text": [
      "17 5 2 "
     ]
    }
   ],
   "source": [
    "def leaders_numbers(arr, size):       # Takes 2 arguemnts : 'arr' - array of numbers, 'size' - size of the array\n",
    "    for i in range(0, size):          # Iterates through each element of array \n",
    "        j = i + 1                     # Initialize j here\n",
    "        is_leader = True              # Flag to track if the element is a leader\n",
    "\n",
    "        while j < size:\n",
    "            if arr[i] <= arr[j]:\n",
    "                is_leader = False\n",
    "                break\n",
    "            j += 1\n",
    "\n",
    "        if is_leader and j == size:\n",
    "            print(arr[i], end=\" \")\n",
    "\n",
    "arr = [16, 17, 4, 3, 5, 2]\n",
    "leaders_numbers(arr, len(arr))\n",
    "\n",
    "# Iterate - to repeat a process or an action multiple times in a loop or a sequence"
   ]
  },
  {
   "cell_type": "code",
   "execution_count": null,
   "id": "eee02f5c",
   "metadata": {},
   "outputs": [],
   "source": []
  }
 ],
 "metadata": {
  "kernelspec": {
   "display_name": "Python 3 (ipykernel)",
   "language": "python",
   "name": "python3"
  },
  "language_info": {
   "codemirror_mode": {
    "name": "ipython",
    "version": 3
   },
   "file_extension": ".py",
   "mimetype": "text/x-python",
   "name": "python",
   "nbconvert_exporter": "python",
   "pygments_lexer": "ipython3",
   "version": "3.9.13"
  }
 },
 "nbformat": 4,
 "nbformat_minor": 5
}
