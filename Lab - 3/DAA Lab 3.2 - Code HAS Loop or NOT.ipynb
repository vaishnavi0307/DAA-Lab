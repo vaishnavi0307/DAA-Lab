{
 "cells": [
  {
   "cell_type": "code",
   "execution_count": 3,
   "id": "0b925b1c",
   "metadata": {},
   "outputs": [],
   "source": [
    "# Write a code to know whetehr your code has a loop or not"
   ]
  },
  {
   "cell_type": "code",
   "execution_count": 4,
   "id": "25196250",
   "metadata": {},
   "outputs": [
    {
     "name": "stdout",
     "output_type": "stream",
     "text": [
      "40 50 20 10 "
     ]
    }
   ],
   "source": [
    "class Node:\n",
    "    def __init__(self, k):\n",
    "        self.key = k\n",
    "        self.next = None\n",
    "        \n",
    "def InsertBegin(head, key):                   \n",
    "    temp = Node(key)\n",
    "    temp.next = head \n",
    "    return temp\n",
    "\n",
    "head = None\n",
    "head = InsertBegin(head, 10)\n",
    "head = InsertBegin(head, 20)\n",
    "head = InsertBegin(head, 50)\n",
    "head = InsertBegin(head, 40)\n",
    "\n",
    "def printList(head):                           \n",
    "    curr = head\n",
    "    while curr != None:\n",
    "        print(curr.key, end = \" \")\n",
    "        curr = curr.next\n",
    "        \n",
    "printList(head)"
   ]
  },
  {
   "cell_type": "code",
   "execution_count": 5,
   "id": "cee519e2",
   "metadata": {},
   "outputs": [],
   "source": [
    "# In Straight Path, (i.e., Single/Double Linked List), 2 things cannot cross or pass or crash each other hence 'no loop'\n",
    "# In Circular Path, (i.e., Circular Linked List), 2 things cross or pass or crash each other hence there 'is a loop'\n",
    "\n",
    "class ListNode:\n",
    "    def __init__(self, val=0, next=None):\n",
    "        self.val = val\n",
    "        self.next = next\n",
    "\n",
    "def has_loop(head):\n",
    "    slow = head\n",
    "    fast = head\n",
    "\n",
    "    while fast is not None and fast.next is not None:\n",
    "        slow = slow.next              # slow = 1x speed\n",
    "        fast = fast.next.next         # fast = 2x speed\n",
    "        if slow == fast:\n",
    "            return True\n",
    "\n",
    "    return False"
   ]
  },
  {
   "cell_type": "code",
   "execution_count": 7,
   "id": "587f9ad4",
   "metadata": {},
   "outputs": [
    {
     "name": "stdout",
     "output_type": "stream",
     "text": [
      "The linked list has a loop.\n"
     ]
    }
   ],
   "source": [
    "class ListNode:\n",
    "    def __init__(self, value):\n",
    "        self.value = value\n",
    "        self.next = None\n",
    "\n",
    "def has_loop(head):\n",
    "    if not head or not head.next:\n",
    "        return False\n",
    "\n",
    "    slow_ptr = head\n",
    "    fast_ptr = head\n",
    "\n",
    "    while fast_ptr and fast_ptr.next:\n",
    "        slow_ptr = slow_ptr.next\n",
    "        fast_ptr = fast_ptr.next.next\n",
    "\n",
    "        if slow_ptr == fast_ptr:\n",
    "            return True\n",
    "\n",
    "    return False\n",
    "\n",
    "# Helper function to create a linked list with a loop\n",
    "def create_linked_list_with_loop(values, loop_index):\n",
    "    if not values:\n",
    "        return None\n",
    "\n",
    "    head = ListNode(values[0])\n",
    "    current = head\n",
    "    loop_node = None\n",
    "\n",
    "    for i in range(1, len(values)):\n",
    "        current.next = ListNode(values[i])\n",
    "        current = current.next\n",
    "\n",
    "        if i == loop_index:\n",
    "            loop_node = current\n",
    "\n",
    "    if loop_node:\n",
    "        current.next = loop_node\n",
    "\n",
    "    return head\n",
    "\n",
    "# Example usage:\n",
    "values = [1, 2, 3, 4, 5, 6]\n",
    "loop_index = 2  # Change this value to create a loop at a different index\n",
    "head = create_linked_list_with_loop(values, loop_index)\n",
    "\n",
    "if has_loop(head):\n",
    "    print(\"The linked list has a loop.\")\n",
    "else:\n",
    "    print(\"The linked list does not have a loop.\")\n"
   ]
  }
 ],
 "metadata": {
  "kernelspec": {
   "display_name": "Python 3 (ipykernel)",
   "language": "python",
   "name": "python3"
  },
  "language_info": {
   "codemirror_mode": {
    "name": "ipython",
    "version": 3
   },
   "file_extension": ".py",
   "mimetype": "text/x-python",
   "name": "python",
   "nbconvert_exporter": "python",
   "pygments_lexer": "ipython3",
   "version": "3.9.13"
  }
 },
 "nbformat": 4,
 "nbformat_minor": 5
}
